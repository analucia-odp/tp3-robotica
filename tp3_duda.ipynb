{
 "cells": [
  {
   "cell_type": "markdown",
   "metadata": {},
   "source": [
    "**Imports**"
   ]
  },
  {
   "cell_type": "code",
   "execution_count": 364,
   "metadata": {},
   "outputs": [],
   "source": [
    "# ---------------------------------------------- Imports ----------------------------------------\n",
    "import numpy as np\n",
    "import math\n",
    "import matplotlib.pyplot as plt\n",
    "import matplotlib.patches as patches\n",
    "from coppeliasim_zmqremoteapi_client import RemoteAPIClient"
   ]
  },
  {
   "cell_type": "markdown",
   "metadata": {},
   "source": [
    "**Constantes**"
   ]
  },
  {
   "cell_type": "code",
   "execution_count": 365,
   "metadata": {},
   "outputs": [
    {
     "name": "stdout",
     "output_type": "stream",
     "text": [
      "100 100\n",
      "[[0.5 0.5 0.5 ... 0.5 0.5 0.5]\n",
      " [0.5 0.5 0.5 ... 0.5 0.5 0.5]\n",
      " [0.5 0.5 0.5 ... 0.5 0.5 0.5]\n",
      " ...\n",
      " [0.5 0.5 0.5 ... 0.5 0.5 0.5]\n",
      " [0.5 0.5 0.5 ... 0.5 0.5 0.5]\n",
      " [0.5 0.5 0.5 ... 0.5 0.5 0.5]]\n",
      "100\n"
     ]
    }
   ],
   "source": [
    "L = 0.230\n",
    "R = 0.035\n",
    "ROBOT = \"kobuki\"\n",
    "LASER = \"fastHokuyo\"\n",
    "\n",
    "robot_path = []\n",
    "obstacle_points = []\n",
    "\n",
    "# fig = plt.figure(figsize=(8,8), dpi=100)\n",
    "# ax = fig.add_subplot(111, aspect='equal')\n",
    "\n",
    "map_size = np.array([10,10])\n",
    "cell_size = 0.1\n",
    "rows, cols = (map_size/cell_size).astype(int)\n",
    "print(rows, cols)\n",
    "occ_grid = np.full((rows, cols), 0.5)\n",
    "# grid = np.full((rows, cols), 0.5)\n",
    "# CELL_SIZE = 0.1\n",
    "print(occ_grid)\n",
    "print(len(occ_grid))\n",
    "\n",
    "\n",
    "# m = np.random.uniform(low=0.0, high=1.0, size=(rows, cols))\n",
    "\n",
    "# m[0,0] = 1 \n",
    "# plt.imshow(m, cmap='Greys', origin='upper', extent=(0, cols, rows, 0))\n",
    "\n",
    "# ax.set_xticks(np.arange(0, cols, 1))\n",
    "# ax.set_yticks(np.arange(0, rows, 1))\n",
    "\n",
    "# plt.colorbar()\n",
    "# print(occ_grid)"
   ]
  },
  {
   "cell_type": "markdown",
   "metadata": {},
   "source": [
    "Log odds"
   ]
  },
  {
   "cell_type": "code",
   "execution_count": 366,
   "metadata": {},
   "outputs": [],
   "source": [
    "#odds\n",
    "def prob_to_log_odds(prob):\n",
    "    odds = prob/(1 - prob)\n",
    "    return np.log(odds)\n",
    "\n",
    "def log_odds_to_prob(log_odds):\n",
    "    return (1 - (1 / (1 + np.exp(log_odds))))"
   ]
  },
  {
   "cell_type": "markdown",
   "metadata": {},
   "source": [
    "Algoritmo de Bresenham"
   ]
  },
  {
   "cell_type": "code",
   "execution_count": 367,
   "metadata": {},
   "outputs": [],
   "source": [
    "def bresenham(x0, y0, x1, y1):\n",
    "    \"\"\"Algoritmo de Bresenham para gerar pontos entre (x0, y0) e (x1, y1).\"\"\"\n",
    "    points = []\n",
    "    dx = abs(x1 - x0)\n",
    "    dy = abs(y1 - y0)\n",
    "    sx = 1 if x0 < x1 else -1\n",
    "    sy = 1 if y0 < y1 else -1\n",
    "    err = dx - dy\n",
    "\n",
    "    while True:\n",
    "        points.append((x0, y0))\n",
    "        if x0 == x1 and y0 == y1:\n",
    "            break\n",
    "        e2 = err * 2\n",
    "        if e2 > -dy:\n",
    "            err -= dy\n",
    "            x0 += sx\n",
    "        if e2 < dx:\n",
    "            err += dx\n",
    "            y0 += sy\n",
    "    return points"
   ]
  },
  {
   "cell_type": "markdown",
   "metadata": {},
   "source": [
    "Inverse Sensor Model"
   ]
  },
  {
   "cell_type": "code",
   "execution_count": 368,
   "metadata": {},
   "outputs": [],
   "source": [
    "# 3 possibilidade:\n",
    "# tem uma grande chance das celulas estarem livre entre o sensor e a posição que fiz a leitura estar livre, pq se nao eu nao iria conseguir fazer a leitura\n",
    "# as posições um pouco antes e um pouco depois tem uma chance de estarem ocupadas porque é onde eu fiz a leitura\n",
    "# e o que ta depois do sensor eu nao sei o que tem la, entao como eu nao sei eu considero a probabilidade anterior que tava naquela celula\n",
    "\n",
    "#Essa função vai avaliar uma celula por vez aqui.\n",
    "#m_i vai ser a celula que eu to avaliando no momento\n",
    "#x_t sao as coordenadas do robo\n",
    "#z_t pode ser uma leitura de um sensor LIDAR, sonar, ou qualquer outro sensor de distância, que mede a distância até o obstáculo mais próximo a partir da posição atual do robô.\n",
    "#é a probabilidade inicial ou a priori de ocupação da célula.\n",
    "\n",
    "# def inverse_range_sensor_model(m_i, x_t, z_t, prob):\n",
    "#     x_i, y_i = m_i  # Centro de massa da célula m_i\n",
    "#     x, y = x_t  # Posição do robô\n",
    "#     z_max = 5 / cell_size  # Distância máxima\n",
    "#     alpha = 0.2 / cell_size\n",
    "    \n",
    "#     # Cálculo explícito da distância r, que representa a distancia entre o robo e o centro da celula mi\n",
    "#     r = np.sqrt((x_i - x)**2 + (y_i - y)**2)\n",
    "    \n",
    "#     l_occ = log_odds_to_prob(0.85)\n",
    "#     l_free = log_odds_to_prob(0.1)\n",
    "#     l_0 = log_odds_to_prob(prob)\n",
    "#     # print(\"logs: \", l_occ, l_free, l_0)\n",
    "#     # Correspondência para z_t (distancemax) no algoritmo original\n",
    "#     z_k_t = z_t\n",
    "#     #Se for maior, retorna l_0, indicando que a célula está na área desconhecida.\n",
    "#     if r > min(z_max, z_k_t + alpha / 2):\n",
    "#         return l_0\n",
    "#     #Se ambas as condições forem verdadeiras, retorna l_occ, indicando que a célula provavelmente está ocupada.\n",
    "#     if z_k_t < z_max and abs(r - z_k_t) < alpha / 2:\n",
    "#         return l_occ\n",
    "#     #Se for verdadeira, retorna l_free, indicando que a célula está livre.\n",
    "#     if r <= z_k_t:\n",
    "#         return l_free     \n",
    "    \n",
    "def inverse_range_sensor_model(m_i, x_t, z_t, prob):\n",
    "    # x_i, y_i = m_i  # Centro de massa da célula m_i\n",
    "    # x, y = x_t  # Posição do robô\n",
    "    z_max = 5 / cell_size  # Distância máxima\n",
    "    alpha = 0.2 / cell_size\n",
    "    \n",
    "    # Cálculo explícito da distância r, que representa a distancia entre o robo e o centro da celula mi\n",
    "    r = np.linalg.norm(m_i - x_t[:2])\n",
    "    \n",
    "    l_occ = log_odds_to_prob(0.85)\n",
    "    l_free = log_odds_to_prob(0.1)\n",
    "    l_0 = log_odds_to_prob(prob)\n",
    "    # print(\"logs: \", l_occ, l_free, l_0)\n",
    "    # Correspondência para z_t (distancemax) no algoritmo original\n",
    "    # z_k_t = z_t\n",
    "    #Se for maior, retorna l_0, indicando que a célula está na área desconhecida.\n",
    "    if r > min(z_max, z_t + alpha / 2):\n",
    "        return l_0\n",
    "    #Se ambas as condições forem verdadeiras, retorna l_occ, indicando que a célula provavelmente está ocupada.\n",
    "    if z_t < z_max and abs(r - z_t) < alpha / 2:\n",
    "        return l_occ\n",
    "    #Se for verdadeira, retorna l_free, indicando que a célula está livre.\n",
    "    if r <= z_t:\n",
    "        return l_free     "
   ]
  },
  {
   "cell_type": "markdown",
   "metadata": {},
   "source": [
    "Algoritmo Occupancy Grid"
   ]
  },
  {
   "cell_type": "code",
   "execution_count": 369,
   "metadata": {},
   "outputs": [],
   "source": [
    "from skimage.draw import line\n",
    "\n",
    "# Função principal de mapeamento com navegação\n",
    "# def occupancy_grid_mapping(cel_robo, cel_final, occ_grid, sensor_reading, initial_prob=0.5):\n",
    "#     # distancemax = np.linalg.norm(cel_robo - cel_final)\n",
    "#     path = bresenham(cel_robo[0], cel_robo[1], cel_final[0], cel_final[1])\n",
    "#     l_0 = log_odds_to_prob(initial_prob)\n",
    "    \n",
    "#     for (x, y) in path:\n",
    "#         celula_prob = occ_grid[x, y]\n",
    "#         l_ant = log_odds_to_prob(celula_prob)\n",
    "#         celula = [x, y]\n",
    "#         r = np.sqrt((celula[0] - cel_robo[0])**2 + (celula[1] - cel_robo[1])**2)\n",
    "        \n",
    "#         if r <= sensor_reading + 5:\n",
    "#             l_cell = l_ant + inverse_range_sensor_model(celula, cel_robo, sensor_reading, celula_prob) - l_0\n",
    "#         else:\n",
    "#             l_cell = l_ant\n",
    "        \n",
    "#         occ_grid[x, y] = prob_to_log_odds(l_cell)\n",
    "\n",
    "#celular final é quando detectou um obstaculo\n",
    "def occupancy_grid_mapping(cel_robo, cel_final):\n",
    "    distancemax = np.linalg.norm(cel_robo - cel_final)\n",
    "    #FORMA UMA LINHA RETA ENTRE O ROBO E A CELULA FINAL\n",
    "    rr, cc = line(cel_robo[0], cel_robo[1], cel_final[0], cel_final[1])\n",
    "    \n",
    "    #PERCORRO POR TODA A LINHA QUE ESTÁ ENTRE O ROBO E A CELULA FINAL\n",
    "    for i in range(len(rr)):\n",
    "        celula_prob = occ_grid[rr[i], cc[i]] #PEGO A PROBABILIDADE NA CELULA QUE EU ESTOU\n",
    "        l_ant = log_odds_to_prob(celula_prob) #PASSO PARA LOG\n",
    "        celula = [rr[i], cc[i]]\n",
    "        # r = np.sqrt((celula[0] - cel_robo[0])**2 + (celula[1] - cel_robo[1])**2)\n",
    "        \n",
    "        l_cell = l_ant + inverse_range_sensor_model(celula, cel_robo, distancemax, celula_prob)\n",
    "        \n",
    "        occ_grid[rr[i], cc[i]] = prob_to_log_odds(l_cell) #armazena a nova probabilidade no grid de ocupação"
   ]
  },
  {
   "cell_type": "code",
   "execution_count": 370,
   "metadata": {},
   "outputs": [],
   "source": [
    "def convert_laser_reading_to_cell_values(xo,yo):\n",
    "    max_cel = len(occ_grid) - 1\n",
    "\n",
    "    i = np.floor(xo / cell_size).astype(int)\n",
    "    j = np.floor(yo / cell_size).astype(int)\n",
    "    \n",
    "    i = min(max_cel, i)\n",
    "    j = min(max_cel, j)\n",
    "    \n",
    "    return i, j"
   ]
  },
  {
   "cell_type": "markdown",
   "metadata": {},
   "source": [
    "**Init**"
   ]
  },
  {
   "cell_type": "code",
   "execution_count": 371,
   "metadata": {},
   "outputs": [],
   "source": [
    "# ---------------------------------------------- Init ----------------------------------------\n",
    "try:\n",
    "    client = RemoteAPIClient()\n",
    "    sim = client.require('sim')\n",
    "except:\n",
    "    print('Error connection')"
   ]
  },
  {
   "cell_type": "markdown",
   "metadata": {},
   "source": [
    "**Leitura do Sensor**"
   ]
  },
  {
   "cell_type": "code",
   "execution_count": null,
   "metadata": {},
   "outputs": [],
   "source": []
  },
  {
   "cell_type": "code",
   "execution_count": 372,
   "metadata": {},
   "outputs": [],
   "source": [
    "def readSensorData(range_data_signal_id=\"hokuyo_range_data\", \n",
    "                    angle_data_signal_id=\"hokuyo_angle_data\"):\n",
    "    \n",
    "    signalName = sim.waitForSignal(range_data_signal_id)\n",
    "    \n",
    "    string_range_data = sim.getStringSignal(range_data_signal_id)\n",
    "\n",
    "    string_angle_data = sim.getStringSignal(angle_data_signal_id)\n",
    "\n",
    "    # verifique se ambos os dados foram obtidos corretamente\n",
    "    if string_range_data != None and string_angle_data != None:\n",
    "        # descompacte dados de mensagens de alcance e sensor\n",
    "        raw_range_data = sim.unpackFloatTable(string_range_data)\n",
    "        raw_angle_data = sim.unpackFloatTable(string_angle_data)\n",
    "\n",
    "        return raw_range_data, raw_angle_data\n",
    "\n",
    "    # retornar nenhum caso nada tenha sido obtido do simulador\n",
    "    return None"
   ]
  },
  {
   "cell_type": "markdown",
   "metadata": {},
   "source": [
    "**Cálculo Matriz de Rotação**"
   ]
  },
  {
   "cell_type": "code",
   "execution_count": 373,
   "metadata": {},
   "outputs": [],
   "source": [
    "def get_rotation_matrix(thetaZ):\n",
    "    return np.array([[  np.cos(thetaZ), -np.sin(thetaZ), 0 ],\n",
    "                      [ np.sin(thetaZ),  np.cos(thetaZ), 0 ],\n",
    "                      [ 0            ,  0            , 1 ]])\n",
    "\n",
    "def get_rotation_matrix_laser_world():\n",
    "    objectHandle_RP = sim.getObject(\"/\" + ROBOT)\n",
    "    origin_RP = np.array(sim.getObjectPosition(objectHandle_RP, \n",
    "                                        sim.handle_world))\n",
    "\n",
    "    objectHandle_Laser = sim.getObject(\"/\" + LASER)\n",
    "    origin_Laser = np.array(sim.getObjectPosition(objectHandle_Laser, \n",
    "                                        sim.handle_world))\n",
    "    p_Laserorg = origin_Laser - origin_RP\n",
    "    eulerAngles_Laser = sim.getObjectOrientation(objectHandle_Laser, \n",
    "                                                objectHandle_RP)\n",
    "\n",
    "    aux = np.array([0, 0, 0, 1])\n",
    "    rotationMatrix_Laser = get_rotation_matrix(eulerAngles_Laser[2])\n",
    "    transformationMatrix_Laser = np.column_stack((rotationMatrix_Laser, p_Laserorg))\n",
    "    transformationMatrix_Laser = np.row_stack((transformationMatrix_Laser, aux))\n",
    "\n",
    "    #Matriz de Transformação Robô -> mundo\n",
    "    origin_World = np.array([0,0,0])\n",
    "    p_RPorg = origin_RP - origin_World\n",
    "    eulerAngles_RP = sim.getObjectOrientation(objectHandle_RP, \n",
    "                                                sim.handle_world)\n",
    "    rotationMatrix_RP = get_rotation_matrix(eulerAngles_RP[2])\n",
    "    transformationMatrix_World = np.column_stack((rotationMatrix_RP, p_RPorg))\n",
    "    transformationMatrix_World = np.row_stack((transformationMatrix_World, aux))\n",
    "    \n",
    "    #Matriz de Transformação Laser -> Mundo\n",
    "    return transformationMatrix_Laser @ transformationMatrix_World"
   ]
  },
  {
   "cell_type": "markdown",
   "metadata": {},
   "source": [
    "**Campos Potenciais**"
   ]
  },
  {
   "cell_type": "code",
   "execution_count": 374,
   "metadata": {},
   "outputs": [],
   "source": [
    "#Calcula a força de atração \n",
    "def att_force(q, goal, k=5):\n",
    "    f = k*(goal - q)\n",
    "    return f\n",
    "\n",
    "#Calcula a força de repulsão\n",
    "def rep_force(q, obs, R=1.5, krep=.005):\n",
    "    Frep_total = np.array([0.0, 0.0])\n",
    "    for obstacle in obs:\n",
    "        v = q[0:2] - obstacle\n",
    "        d = np.linalg.norm(v) # Calcula a distância entre o robô e o obstáculo\n",
    "\n",
    "        # Calcula a força de repulsão apenas se a distância for menor que R\n",
    "        if (d < R):  \n",
    "            rep = (1/d**2)*((1/d)-(1/R))*(v/d) \n",
    "            Frep_total += rep\n",
    "\n",
    "    return krep*Frep_total"
   ]
  },
  {
   "cell_type": "markdown",
   "metadata": {},
   "source": [
    "**Occupancy Grid**"
   ]
  },
  {
   "cell_type": "code",
   "execution_count": 375,
   "metadata": {},
   "outputs": [],
   "source": [
    "# #Leitura -> Célula\n",
    "# def convert_robot_read_to_laser(pos_robot):\n",
    "#     matrix = np.array([])\n",
    "\n",
    "# def convert_laser_to_cell():\n",
    "#     return laser_position/cell_size"
   ]
  },
  {
   "cell_type": "code",
   "execution_count": 376,
   "metadata": {},
   "outputs": [],
   "source": [
    "def Rz(theta):\n",
    "    return np.array([[  np.cos(theta), -np.sin(theta), 0 ],\n",
    "                      [ np.sin(theta),  np.cos(theta), 0 ],\n",
    "                      [ 0            ,  0            , 1 ]])"
   ]
  },
  {
   "cell_type": "markdown",
   "metadata": {},
   "source": [
    "**Navegação**"
   ]
  },
  {
   "cell_type": "code",
   "execution_count": 377,
   "metadata": {},
   "outputs": [],
   "source": [
    "import time\n",
    "def navigation(qgoal):\n",
    "    robotHandle = sim.getObject(\"/\" + ROBOT)  \n",
    "    robotLeftMotorHandle = sim.getObject(\"/\" +'kobuki_leftMotor')\n",
    "    robotRightMotorHandle = sim.getObject(\"/\" +'kobuki_rightMotor')\n",
    "\n",
    "    maxv = 0.2 #LIMITADORES DA VELOCIDADE LINEAR\n",
    "    maxw = np.deg2rad(45) #LIMITADORES DA VELOCIDADE ANGULAR\n",
    "\n",
    "    rho = np.inf\n",
    "    random_force = 0.1\n",
    "    max_sensor_range = 5\n",
    "    start_time = time.time()\n",
    "    while rho > .05:\n",
    "        current_time = time.time()\n",
    "        elapsed_time = current_time - start_time\n",
    "        if elapsed_time >= 5:\n",
    "            break\n",
    "        obstacle = []\n",
    "\n",
    "        #Configuração do robo\n",
    "        robotPos = sim.getObjectPosition(robotHandle, sim.handle_world)\n",
    "        robotPos = robotPos[0:2]\n",
    "        robot_path.append(robotPos)\n",
    "        robotOri = sim.getObjectOrientation(robotHandle, sim.handle_world)        \n",
    "        robotConfig = np.array([robotPos[0], robotPos[1], robotOri[2]])\n",
    "\n",
    "        raw_range_data, raw_angle_data = readSensorData()\n",
    "        laser_data = np.array([raw_angle_data, raw_range_data]).T\n",
    "\n",
    "        #Transformação dos dados do meu laser para o mundo\n",
    "        transformationMatrix_LaserWorld = get_rotation_matrix_laser_world()\n",
    "\n",
    "        for i in range(len(laser_data)):\n",
    "            ang, dist = laser_data[i] #pega os valores de angulo e distância\n",
    "\n",
    "            if (max_sensor_range - dist) > 0.1:\n",
    "                x = dist * np.cos(ang) #meu x\n",
    "                y = dist * np.sin(ang) #meu y\n",
    "                point = np.array([x,y,0,1])\n",
    "\n",
    "                if len(transformationMatrix_LaserWorld) != 0:\n",
    "                    point = transformationMatrix_LaserWorld @ point\n",
    "                    obstacle.append(point[0:2])\n",
    "                    obstacle_points.append(point)\n",
    "\n",
    "                    # sensor_reading = np.linalg.norm(robotPos - point[0:2])\n",
    "                    \n",
    "                    # print(\"sensor_reading\", sensor_reading)\n",
    "                    # print(\"robotPos, point[0:2]: \", robotPos, point[0:2])\n",
    "                    # print(\"occ_grid\", occ_grid)\n",
    "                    # print(\"teste\", point[0:2])\n",
    "                    # max_cel = len(occ_grid) - 1\n",
    "\n",
    "                    # robotPos_x, robotPos_y = robotPos\n",
    "                    # obstacle_x, obstacle_y = point[0:2]\n",
    "                    # robotPos = np.floor((1/1)*np.array([robotPos_x, robotPos_y])).astype(int)\n",
    "                    # obstaclePos = np.floor((1/1)*np.array([obstacle_x, obstacle_y])).astype(int)\n",
    "                    obstaclePos = point[0:2]\n",
    "                    # print(\"CARALHO\", obstaclePos[0])\n",
    "                    # fim_laser = Rz(np.pi / 2) @ [(obstaclePos[0] + map_size[0] / 2), (obstaclePos[1] + map_size[1] / 2), 0]\n",
    "                    # robo_mapa = Rz(np.pi / 2) @ [(robotPos[0] + map_size[0] / 2), (robotPos[1] + map_size[1] / 2), 0]\n",
    "                    \n",
    "                    # robotPos_ = (robotPos / 0.1).astype(int)\n",
    "                    # obstaclePos_ = (obstaclePos / 0.1).astype(int)\n",
    "\n",
    "                    robotPos_x, robotPos_y = convert_laser_reading_to_cell_values(robotPos[0],robotPos[1])\n",
    "                    obstaclePos_x, obstaclePos_y = convert_laser_reading_to_cell_values(obstaclePos[0],obstaclePos[1])\n",
    "                    robotPos_ = np.array([robotPos_x, robotPos_y])\n",
    "                    # print(\"aqui\", robotPos_)\n",
    "                    obstaclePos_ = np.array([obstaclePos_x, obstaclePos_y])\n",
    "                    # robox = min(max_cel, int(robo_mapa[0]/0.1))  # posição x do robo na célula do mapa occ grid\n",
    "                    # roboy = min(max_cel, int(robo_mapa[1]/0.1))  # posição y do robo na célula do mapa occ grid\n",
    "                    # celulax = min(max_cel, int(fim_laser[0]/0.1))  # posição x de onde o laser bateu na célula do mapa occ grid\n",
    "                    # celulay = min(max_cel, int(fim_laser[1]/0.1)\n",
    "                    # robotPos_ = np.array([robox,roboy])\n",
    "                    # obstaclePos_ = np.array([celulax,celulay])\n",
    "                    # print(\"aqui\", robotPos_, obstaclePos_)\n",
    "                    \n",
    "                    occupancy_grid_mapping(robotPos_, obstaclePos_)   \n",
    "        \n",
    "        Fatt = att_force(robotPos, qgoal)\n",
    "        Frep = rep_force(robotPos, obstacle)\n",
    "\n",
    "        random_force_vector = random_force * np.random.rand(2)\n",
    "        Ft = Fatt + Frep + random_force_vector\n",
    "        Ft_x = Ft[0]\n",
    "        Ft_y = Ft[1]\n",
    "\n",
    "        # Apenas para interromper o loop\n",
    "        rho = np.sqrt(Ft_x**2 + Ft_y**2)\n",
    "        \n",
    "        # Formula De Luca e Oriolo para calcular a velocidade linear e angular.\n",
    "        kr = 0.05\n",
    "        kt = 0.1\n",
    "        v = kr*(Ft_x*np.cos(robotConfig[2]) + Ft_y*np.sin(robotConfig[2]))\n",
    "        w = kt*(np.arctan2(Ft_y,Ft_x) - robotConfig[2])\n",
    "                \n",
    "        # Limit v,w to +/- max\n",
    "        v = max(min(v, maxv), -maxv)\n",
    "        w = max(min(w, maxw), -maxw)        \n",
    "        \n",
    "        vr = ((1.0*v) + (w*L))/(2.0*R)\n",
    "        vl = ((1.0*v) - (w*L))/(2.0*R)\n",
    "        sim.setJointTargetVelocity(robotRightMotorHandle, vr)\n",
    "        sim.setJointTargetVelocity(robotLeftMotorHandle, vl)\n",
    "\n",
    "    sim.setJointTargetVelocity(robotRightMotorHandle, 0)\n",
    "    sim.setJointTargetVelocity(robotLeftMotorHandle, 0)\n",
    "\n"
   ]
  },
  {
   "cell_type": "markdown",
   "metadata": {},
   "source": [
    "**MAIN**"
   ]
  },
  {
   "cell_type": "code",
   "execution_count": 378,
   "metadata": {},
   "outputs": [],
   "source": [
    "# TESTE 1\n",
    "qgoals = []\n",
    "qgoals.append([1.5, 3])\n",
    "qgoals.append([3.4, 4])\n",
    "qgoals.append([0.4, 4])\n",
    "qgoals.append([1.0, 0])\n",
    "qgoals.append([0.5, -4.5])"
   ]
  },
  {
   "cell_type": "code",
   "execution_count": 379,
   "metadata": {},
   "outputs": [
    {
     "name": "stderr",
     "output_type": "stream",
     "text": [
      "C:\\Users\\eduar\\AppData\\Local\\Temp/ipykernel_14404/2054203346.py:4: RuntimeWarning: invalid value encountered in log\n",
      "  return np.log(odds)\n"
     ]
    },
    {
     "data": {
      "image/png": "[encoded data removed]",
      "text/plain": [
       "<Figure size 432x288 with 2 Axes>"
      ]
     },
     "metadata": {
      "needs_background": "light"
     },
     "output_type": "display_data"
    }
   ],
   "source": [
    "sim.startSimulation()\n",
    "\n",
    "reference_frame_handle = sim.getObject(\"/\" + \"ReferenceFrame\")\n",
    "\n",
    "for qgoal in qgoals:\n",
    "        reference_frame_position = qgoal.copy()\n",
    "        reference_frame_position.append(0)\n",
    "        sim.setObjectPosition(reference_frame_handle, reference_frame_position)\n",
    "        navigation(np.array(qgoal))\n",
    "\n",
    "sim.stopSimulation()\n",
    "# Após o término da simulação\n",
    "# Plotando o caminho do robô\n",
    "\n",
    "fig, ax = plt.subplots()\n",
    "\n",
    "# Exibir a matriz do Occupancy Grid com uma escala de cores ajustada\n",
    "cax = ax.matshow(occ_grid, cmap='gray', vmin=0, vmax=1)\n",
    "\n",
    "# Adicionar uma barra de cores para referência\n",
    "fig.colorbar(cax)\n",
    "\n",
    "# Definir título e rótulos dos eixos\n",
    "ax.set_title('Occupancy Grid Map')\n",
    "ax.set_xlabel('X (cells)')\n",
    "ax.set_ylabel('Y (cells)')\n",
    "\n",
    "# Ajustar rótulos dos eixos para refletir o tamanho da célula\n",
    "ticks = np.arange(0, occ_grid.shape[0], step=5)\n",
    "ax.set_xticks(ticks)\n",
    "ax.set_yticks(ticks)\n",
    "ax.set_xticklabels((ticks * 0.1).astype(float))\n",
    "ax.set_yticklabels((ticks * 0.1).astype(float))\n",
    "\n",
    "# Salvar a figura como uma imagem\n",
    "plt.savefig(\"occupancy_grid_map.png\")\n",
    "plt.show()\n",
    "# print(\"occ_grid\", occ_grid)\n",
    "\n",
    "# robot_path = np.array(robot_path)\n",
    "# plt.plot(robot_path[:, 0], robot_path[:, 1], '-r', label='Caminho do Robô')\n",
    "\n",
    "# # Plotando os obstáculos\n",
    "# # for point in obstacle_points:\n",
    "# #         plt.plot(point[0], point[1], 'o', color='b')\n",
    "# obstacle_points = np.array(obstacle_points)\n",
    "# plt.plot(obstacle_points[:, 0], obstacle_points[:, 1], 'o', color='b', label='Obstáculos')\n",
    "\n",
    "# plt.xlabel('X')\n",
    "# plt.ylabel('Y')\n",
    "# plt.title('Caminho do Robô e Obstáculos')\n",
    "# plt.legend()\n",
    "# plt.grid(True)\n",
    "# plt.axis('equal')"
   ]
  }
 ],
 "metadata": {
  "kernelspec": {
   "display_name": "Python 3",
   "language": "python",
   "name": "python3"
  },
  "language_info": {
   "codemirror_mode": {
    "name": "ipython",
    "version": 3
   },
   "file_extension": ".py",
   "mimetype": "text/x-python",
   "name": "python",
   "nbconvert_exporter": "python",
   "pygments_lexer": "ipython3",
   "version": "3.9.7"
  }
 },
 "nbformat": 4,
 "nbformat_minor": 2
}
