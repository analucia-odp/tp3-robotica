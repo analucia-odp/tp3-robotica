{
 "cells": [
  {
   "cell_type": "markdown",
   "metadata": {},
   "source": [
    "# Imports"
   ]
  },
  {
   "cell_type": "code",
   "execution_count": 225,
   "metadata": {},
   "outputs": [],
   "source": [
    "# ---------------------------------------------- Imports ----------------------------------------\n",
    "import numpy as np\n",
    "import matplotlib.pyplot as plt\n",
    "import matplotlib.patches as patches\n",
    "from coppeliasim_zmqremoteapi_client import RemoteAPIClient\n",
    "import time"
   ]
  },
  {
   "cell_type": "markdown",
   "metadata": {},
   "source": [
    "# INIT"
   ]
  },
  {
   "cell_type": "code",
   "execution_count": 226,
   "metadata": {},
   "outputs": [],
   "source": [
    "# ---------------------------------------------- Init ----------------------------------------\n",
    "try:\n",
    "    client = RemoteAPIClient()\n",
    "    sim = client.require('sim')\n",
    "except:\n",
    "    print('Error connection')"
   ]
  },
  {
   "cell_type": "markdown",
   "metadata": {},
   "source": [
    "# Constantes"
   ]
  },
  {
   "cell_type": "code",
   "execution_count": 227,
   "metadata": {},
   "outputs": [],
   "source": [
    "L = 0.230\n",
    "R = 0.035\n",
    "ROBOT = \"kobuki\"\n",
    "LASER = \"fastHokuyo\"\n",
    "\n",
    "robot_path = []\n",
    "obstacle_points = []\n",
    "\n",
    "# Tamanho da célula do nosso Grid (em metros)\n",
    "# CELL_SIZE = 0.01\n",
    "CELL_SIZE = 0.1\n",
    "# CELL_SIZE = 0.5\n",
    "\n",
    "# Dimensão do meu Mapa\n",
    "MAP_DIMS = np.array([10,10])\n",
    "\n",
    "#Meu grid\n",
    "rows, cols = (MAP_DIMS/CELL_SIZE).astype(int)\n",
    "grid = np.full((rows, cols), 0.5)\n",
    "\n",
    "#Vetor para realizar a translação!\n",
    "pBorg = [-5, -5]\n",
    "\n",
    "#Handles\n",
    "objectHandle_RP = sim.getObject(\"/\" + ROBOT)\n",
    "objectHandle_Laser = sim.getObject(\"/\" + LASER)\n"
   ]
  },
  {
   "cell_type": "markdown",
   "metadata": {},
   "source": [
    "# Leitura do Sensor"
   ]
  },
  {
   "cell_type": "code",
   "execution_count": 228,
   "metadata": {},
   "outputs": [],
   "source": [
    "def readSensorData(range_data_signal_id=\"hokuyo_range_data\", \n",
    "                    angle_data_signal_id=\"hokuyo_angle_data\"):\n",
    "    \n",
    "    signalName = sim.waitForSignal(range_data_signal_id)\n",
    "    \n",
    "    string_range_data = sim.getStringSignal(range_data_signal_id)\n",
    "\n",
    "    string_angle_data = sim.getStringSignal(angle_data_signal_id)\n",
    "\n",
    "    # verifique se ambos os dados foram obtidos corretamente\n",
    "    if string_range_data != None and string_angle_data != None:\n",
    "        # descompacte dados de mensagens de alcance e sensor\n",
    "        raw_range_data = sim.unpackFloatTable(string_range_data)\n",
    "        raw_angle_data = sim.unpackFloatTable(string_angle_data)\n",
    "\n",
    "        return raw_range_data, raw_angle_data\n",
    "\n",
    "    # retornar nenhum caso nada tenha sido obtido do simulador\n",
    "    return None"
   ]
  },
  {
   "cell_type": "markdown",
   "metadata": {},
   "source": [
    "# Transformações"
   ]
  },
  {
   "cell_type": "code",
   "execution_count": 229,
   "metadata": {},
   "outputs": [],
   "source": [
    "def get_rotation_matrix(thetaZ):\n",
    "    return np.array([[  np.cos(thetaZ), -np.sin(thetaZ), 0 ],\n",
    "                      [ np.sin(thetaZ),  np.cos(thetaZ), 0 ],\n",
    "                      [ 0            ,  0            , 1 ]])\n",
    "\n",
    "def get_transformation_matrix_laser_world():\n",
    "    origin_RP = np.array(sim.getObjectPosition(objectHandle_RP, \n",
    "                                        sim.handle_world))\n",
    "\n",
    "    origin_Laser = np.array(sim.getObjectPosition(objectHandle_Laser, \n",
    "                                        sim.handle_world))\n",
    "    p_Laserorg = origin_Laser - origin_RP\n",
    "    eulerAngles_Laser = sim.getObjectOrientation(objectHandle_Laser, \n",
    "                                                objectHandle_RP)\n",
    "\n",
    "    aux = np.array([0, 0, 0, 1])\n",
    "    rotationMatrix_Laser = get_rotation_matrix(eulerAngles_Laser[2])\n",
    "    transformationMatrix_Laser = np.column_stack((rotationMatrix_Laser, p_Laserorg))\n",
    "    transformationMatrix_Laser = np.row_stack((transformationMatrix_Laser, aux))\n",
    "\n",
    "    #Matriz de Transformação Robô -> mundo\n",
    "    origin_World = np.array([0,0,0])\n",
    "    p_RPorg = origin_RP - origin_World\n",
    "    eulerAngles_RP = sim.getObjectOrientation(objectHandle_RP, \n",
    "                                                sim.handle_world)\n",
    "    rotationMatrix_RP = get_rotation_matrix(eulerAngles_RP[2])\n",
    "    transformationMatrix_World = np.column_stack((rotationMatrix_RP, p_RPorg))\n",
    "    transformationMatrix_World = np.row_stack((transformationMatrix_World, aux))\n",
    "    \n",
    "    #Matriz de Transformação Laser -> Mundo\n",
    "    return transformationMatrix_Laser @ transformationMatrix_World"
   ]
  },
  {
   "cell_type": "markdown",
   "metadata": {},
   "source": [
    "# Campos Potenciais"
   ]
  },
  {
   "cell_type": "code",
   "execution_count": 230,
   "metadata": {},
   "outputs": [],
   "source": [
    "#Calcula a força de atração \n",
    "def att_force(q, goal, k=5):\n",
    "    f = k*(goal - q)\n",
    "    return f\n",
    "\n",
    "#Calcula a força de repulsão\n",
    "def rep_force(q, obs, R=1.5, krep=.009):\n",
    "    Frep_total = np.array([0.0, 0.0])\n",
    "    for obstacle in obs:\n",
    "        v = q[0:2] - obstacle\n",
    "        d = np.linalg.norm(v) # Calcula a distância entre o robô e o obstáculo\n",
    "\n",
    "        # Calcula a força de repulsão apenas se a distância for menor que R\n",
    "        if (d < R):  \n",
    "            rep = (1/d**2)*((1/d)-(1/R))*(v/d) \n",
    "            Frep_total += rep\n",
    "\n",
    "    return krep*Frep_total"
   ]
  },
  {
   "cell_type": "markdown",
   "metadata": {},
   "source": [
    "# Occupancy Grid"
   ]
  },
  {
   "cell_type": "markdown",
   "metadata": {},
   "source": [
    "### Log-Odds"
   ]
  },
  {
   "cell_type": "code",
   "execution_count": 231,
   "metadata": {},
   "outputs": [],
   "source": [
    "def log_odds_by_probability(pA):\n",
    "    return np.log(pA/(1-pA))\n",
    "\n",
    "def probability_by_log_odds(lti):\n",
    "    return 1 - (1/(1 + np.exp(lti)))\n"
   ]
  },
  {
   "cell_type": "markdown",
   "metadata": {},
   "source": [
    "### Constantes"
   ]
  },
  {
   "cell_type": "code",
   "execution_count": 232,
   "metadata": {},
   "outputs": [],
   "source": [
    "l_0 = log_odds_by_probability(0.5)\n",
    "\n",
    "max_cel = len(grid) - 1\n",
    "\n",
    "rotation_matrix_neg_pi_half = get_rotation_matrix(-np.pi/2)"
   ]
  },
  {
   "cell_type": "markdown",
   "metadata": {},
   "source": [
    "### Inverse Sensor Model"
   ]
  },
  {
   "cell_type": "code",
   "execution_count": 233,
   "metadata": {},
   "outputs": [],
   "source": [
    "def inverse_sense_model(celula, cel_robo, distancemax, prob):\n",
    "    x_i, y_i = celula  # Centro de massa da célula celula\n",
    "    x, y = cel_robo  # Posição do robô\n",
    "    z_max = 5 / CELL_SIZE  # Distância máxima\n",
    "    alpha = 0.2 / CELL_SIZE\n",
    "    \n",
    "    # Cálculo explícito da distância r, que representa a distancia entre o robo e o centro da celula mi\n",
    "    r = np.sqrt((x_i - x)**2 + (y_i - y)**2)\n",
    "    \n",
    "    l_occ = log_odds_by_probability(0.95)\n",
    "    l_free = log_odds_by_probability(0.15)\n",
    "    l_0 = log_odds_by_probability(prob)\n",
    "    # Correspondência para distancemax (distancemax) no algoritmo original\n",
    "    \n",
    "    #Se for maior, retorna l_0, indicando que a célula está na área desconhecida.\n",
    "    if r > min(z_max, distancemax + alpha / 2):\n",
    "        return l_0\n",
    "    #Se ambas as condições forem verdadeiras, retorna l_occ, indicando que a célula provavelmente está ocupada.\n",
    "    if distancemax < z_max and abs(r - distancemax) < alpha / 2:\n",
    "        return l_occ\n",
    "    #Se for verdadeira, retorna l_free, indicando que a célula está livre.\n",
    "    if r <= distancemax:\n",
    "        return l_free "
   ]
  },
  {
   "cell_type": "markdown",
   "metadata": {},
   "source": [
    "### Occupancy Grid e Bresenham"
   ]
  },
  {
   "cell_type": "code",
   "execution_count": 234,
   "metadata": {},
   "outputs": [],
   "source": [
    "def bresenham(x0, y0, x1, y1):\n",
    "    \"\"\"Algoritmo de Bresenham para gerar pontos entre (x0, y0) e (x1, y1).\"\"\"\n",
    "    points = []\n",
    "    dx = abs(x1 - x0)\n",
    "    dy = abs(y1 - y0)\n",
    "    sx = 1 if x0 < x1 else -1\n",
    "    sy = 1 if y0 < y1 else -1\n",
    "    err = dx - dy\n",
    "\n",
    "    while True:\n",
    "        points.append((x0, y0))\n",
    "        if x0 == x1 and y0 == y1:\n",
    "            break\n",
    "        e2 = err * 2\n",
    "        if e2 > -dy:\n",
    "            err -= dy\n",
    "            x0 += sx\n",
    "        if e2 < dx:\n",
    "            err += dx\n",
    "            y0 += sy\n",
    "    return points  \n",
    "\n",
    "# Função principal de mapeamento com navegação\n",
    "def occupancy_grid_mapping(cell_robot, cell_laser):\n",
    "    distance_max = np.linalg.norm(cell_robot - cell_laser)\n",
    "    path = bresenham(cell_robot[0], cell_robot[1], cell_laser[0], cell_laser[1])\n",
    "    \n",
    "    for (t, i) in path:\n",
    "        l_ant = grid[t, i]\n",
    "        l_cell = l_ant + inverse_sense_model([t, i], cell_robot, distance_max, grid[t, i]) - l_0\n",
    "        grid[t, i] = l_cell"
   ]
  },
  {
   "cell_type": "markdown",
   "metadata": {},
   "source": [
    "### Conversão Leitura do laser para posição da célula no Grid"
   ]
  },
  {
   "cell_type": "code",
   "execution_count": 235,
   "metadata": {},
   "outputs": [],
   "source": [
    "def convert_laser_reading_to_cell_values(xo,yo):\n",
    "    cell =  rotation_matrix_neg_pi_half @ ([xo,yo,0])\n",
    "    i = (np.floor(cell[0] / CELL_SIZE).astype(int) + pBorg[0]) * (-1) + 45\n",
    "    j = (np.floor(cell[1] / CELL_SIZE).astype(int) + pBorg[1]) * (-1) + 45\n",
    "    \n",
    "    if max_cel < i:\n",
    "        i = max_cel\n",
    "    if max_cel < j:\n",
    "        j = max_cel\n",
    "    \n",
    "    return i, j"
   ]
  },
  {
   "cell_type": "markdown",
   "metadata": {},
   "source": [
    "# Navegação"
   ]
  },
  {
   "cell_type": "markdown",
   "metadata": {},
   "source": [
    "### Constantes"
   ]
  },
  {
   "cell_type": "code",
   "execution_count": 236,
   "metadata": {},
   "outputs": [],
   "source": [
    "robotHandle = sim.getObject(\"/\" + ROBOT)  \n",
    "robotLeftMotorHandle = sim.getObject(\"/\" +'kobuki_leftMotor')\n",
    "robotRightMotorHandle = sim.getObject(\"/\" +'kobuki_rightMotor')\n",
    "\n",
    "maxv = 0.2 #LIMITADORES DA VELOCIDADE LINEAR\n",
    "maxw = np.deg2rad(45) #LIMITADORES DA VELOCIDADE ANGULAR\n",
    "\n",
    "\n",
    "random_force = 0.1\n",
    "max_sensor_range = 5\n",
    "\n",
    "kr = 0.05\n",
    "kt = 0.1"
   ]
  },
  {
   "cell_type": "code",
   "execution_count": 237,
   "metadata": {},
   "outputs": [],
   "source": [
    "def navigation(qgoal):\n",
    "    start_time = time.time()\n",
    "    rho = np.inf\n",
    "\n",
    "    while rho > .05:\n",
    "        obstacle = []\n",
    "\n",
    "        current_time = time.time()\n",
    "        # elapsed_time = current_time - start_time\n",
    "        # if elapsed_time >= 30:\n",
    "        #     break\n",
    "\n",
    "        #Configuração do robo\n",
    "        robotPos = sim.getObjectPosition(robotHandle, sim.handle_world)\n",
    "        robotPos = robotPos[0:2]\n",
    "        robot_path.append(robotPos)\n",
    "\n",
    "        i_robot, j_robot = convert_laser_reading_to_cell_values(robotPos[0], robotPos[1])\n",
    "        robotOri = sim.getObjectOrientation(robotHandle, sim.handle_world)        \n",
    "        robotConfig = np.array([robotPos[0], robotPos[1], robotOri[2]])\n",
    "\n",
    "        raw_range_data, raw_angle_data = readSensorData()\n",
    "        laser_data = np.array([raw_angle_data, raw_range_data]).T\n",
    "\n",
    "        #Transformação dos dados do meu laser para o mundo\n",
    "        transformationMatrix_LaserWorld = get_transformation_matrix_laser_world()\n",
    "\n",
    "        for i in range(len(laser_data)):\n",
    "            ang, dist = laser_data[i] #pega os valores de angulo e distância\n",
    "            if (max_sensor_range - dist) > 0.1:\n",
    "                x = dist * np.cos(ang) #meu x\n",
    "                y = dist * np.sin(ang) #meu y\n",
    "                point = np.array([x,y,0,1])\n",
    "\n",
    "                if len(transformationMatrix_LaserWorld) != 0:\n",
    "                    point = transformationMatrix_LaserWorld @ point\n",
    "                    obstacle.append(point[0:2])\n",
    "                    obstacle_points.append(point)\n",
    "                    i_laser, j_laser = convert_laser_reading_to_cell_values(point[0],point[1])\n",
    "                    occupancy_grid_mapping(np.array([i_robot, j_robot]), np.array([i_laser, j_laser]))\n",
    "\n",
    "        \n",
    "        Fatt = att_force(robotPos, qgoal)\n",
    "        Frep = rep_force(robotPos, obstacle)\n",
    "\n",
    "        random_force_vector = random_force * np.random.rand(2)\n",
    "        Ft = Fatt + Frep + random_force_vector\n",
    "        Ft_x = Ft[0]\n",
    "        Ft_y = Ft[1]\n",
    "\n",
    "        # Apenas para interromper o loop\n",
    "        rho = np.sqrt(Ft_x**2 + Ft_y**2)\n",
    "        \n",
    "        # Formula De Luca e Oriolo para calcular a velocidade linear e angular.\n",
    "        v = kr*(Ft_x*np.cos(robotConfig[2]) + Ft_y*np.sin(robotConfig[2]))\n",
    "        w = kt*(np.arctan2(Ft_y,Ft_x) - robotConfig[2])\n",
    "                \n",
    "        # Limit v,w to +/- max\n",
    "        v = max(min(v, maxv), -maxv)\n",
    "        w = max(min(w, maxw), -maxw)        \n",
    "        \n",
    "        vr = ((1.0*v) + (w*L))/(2.0*R)\n",
    "        vl = ((1.0*v) - (w*L))/(2.0*R)\n",
    "        sim.setJointTargetVelocity(robotRightMotorHandle, vr)\n",
    "        sim.setJointTargetVelocity(robotLeftMotorHandle, vl)\n",
    "\n",
    "    sim.setJointTargetVelocity(robotRightMotorHandle, 0)\n",
    "    sim.setJointTargetVelocity(robotLeftMotorHandle, 0)\n",
    "\n"
   ]
  },
  {
   "cell_type": "markdown",
   "metadata": {},
   "source": [
    "# MAIN CODE"
   ]
  },
  {
   "cell_type": "markdown",
   "metadata": {},
   "source": [
    "### Testes"
   ]
  },
  {
   "cell_type": "code",
   "execution_count": 238,
   "metadata": {},
   "outputs": [],
   "source": [
    "# TESTE 1\n",
    "qgoals = []\n",
    "qgoals.append([1.5, 3])\n",
    "# qgoals.append([3.4, 4])\n",
    "# qgoals.append([0.4, 4])\n",
    "# qgoals.append([1.0, 0])\n",
    "# qgoals.append([0.5, -4.5])"
   ]
  },
  {
   "cell_type": "markdown",
   "metadata": {},
   "source": [
    "### Simulação"
   ]
  },
  {
   "cell_type": "code",
   "execution_count": 239,
   "metadata": {},
   "outputs": [
    {
     "name": "stderr",
     "output_type": "stream",
     "text": [
      "C:\\Users\\ADM\\AppData\\Local\\Temp\\ipykernel_28340\\799359859.py:2: RuntimeWarning: invalid value encountered in log\n",
      "  return np.log(pA/(1-pA))\n"
     ]
    }
   ],
   "source": [
    "sim.startSimulation()\n",
    "\n",
    "for qgoal in qgoals:\n",
    "        reference_frame_position = qgoal.copy()\n",
    "        reference_frame_position.append(0)\n",
    "        navigation(np.array(qgoal))\n",
    "\n",
    "sim.stopSimulation()"
   ]
  },
  {
   "cell_type": "markdown",
   "metadata": {},
   "source": [
    "### Plot Caminho do robô"
   ]
  },
  {
   "cell_type": "code",
   "execution_count": 240,
   "metadata": {},
   "outputs": [
    {
     "data": {
      "image/png": "[encoded data removed]",
      "text/plain": [
       "<Figure size 640x480 with 1 Axes>"
      ]
     },
     "metadata": {},
     "output_type": "display_data"
    }
   ],
   "source": [
    "# -------------------------- Plotando o caminho do robô -------------------------\n",
    "robot_path = np.array(robot_path)\n",
    "plt.plot(robot_path[:, 0], robot_path[:, 1], '-r', label='Caminho do Robô')\n",
    "obstacle_points = np.array(obstacle_points)\n",
    "plt.plot(obstacle_points[:, 0], obstacle_points[:, 1], 'o', color='b', label='Obstáculos')\n",
    "plt.xlabel('X')\n",
    "plt.ylabel('Y')\n",
    "plt.title('Caminho do Robô e Obstáculos')\n",
    "plt.legend()\n",
    "plt.grid(True)\n",
    "plt.axis('equal')\n",
    "plt.savefig(\"robot_path_and_obstacles.png\")\n",
    "plt.show()"
   ]
  },
  {
   "cell_type": "markdown",
   "metadata": {},
   "source": [
    "### Plot Occupancy Grid"
   ]
  },
  {
   "cell_type": "code",
   "execution_count": 241,
   "metadata": {},
   "outputs": [
    {
     "name": "stderr",
     "output_type": "stream",
     "text": [
      "C:\\Users\\ADM\\AppData\\Local\\Temp\\ipykernel_28340\\799359859.py:5: RuntimeWarning: overflow encountered in exp\n",
      "  return 1 - (1/(1 + np.exp(lti)))\n"
     ]
    },
    {
     "data": {
      "image/png": "[encoded data removed]",
      "text/plain": [
       "<Figure size 640x480 with 2 Axes>"
      ]
     },
     "metadata": {},
     "output_type": "display_data"
    }
   ],
   "source": [
    "# -------------------------- Normaliza o grid -------------------------\n",
    "for r in range(rows):\n",
    "    for c in range(cols):\n",
    "        probability_grid = grid[r,c]\n",
    "        grid[r,c] = probability_by_log_odds(probability_grid)\n",
    "\n",
    "# ------------------ Plotando o occupancy grid -----------------\n",
    "fig, ax = plt.subplots()\n",
    "\n",
    "# Exibir a matriz do Occupancy Grid\n",
    "cax = ax.matshow(grid, cmap='gray_r', vmin=0, vmax=1)\n",
    "\n",
    "# Adicionar uma barra de cores para referência\n",
    "fig.colorbar(cax)\n",
    "\n",
    "# Definir título e rótulos dos eixos\n",
    "ax.set_title('Occupancy Grid Map')\n",
    "ax.set_xlabel('X (cells)')\n",
    "ax.set_ylabel('Y (cells)')\n",
    "\n",
    "# ax.set_xticks(np.arange(0, MAP_DIMS[1]+1, CELL_SIZE))\n",
    "# ax.set_yticks(np.arange(0, MAP_DIMS[0]+1, CELL_SIZE))\n",
    "ticks = np.arange(0, grid.shape[0], step=5)\n",
    "ax.set_xticks(ticks)\n",
    "ax.set_yticks(ticks)\n",
    "# ax.set_xticklabels(ticks)\n",
    "# ax.set_yticklabels(ticks)\n",
    "\n",
    "# Salvar a figura como uma imagem\n",
    "plt.savefig(\"occupancy_grid_map.png\")\n",
    "plt.show()"
   ]
  }
 ],
 "metadata": {
  "kernelspec": {
   "display_name": "Python 3",
   "language": "python",
   "name": "python3"
  },
  "language_info": {
   "codemirror_mode": {
    "name": "ipython",
    "version": 3
   },
   "file_extension": ".py",
   "mimetype": "text/x-python",
   "name": "python",
   "nbconvert_exporter": "python",
   "pygments_lexer": "ipython3",
   "version": "3.9.7"
  }
 },
 "nbformat": 4,
 "nbformat_minor": 2
}
