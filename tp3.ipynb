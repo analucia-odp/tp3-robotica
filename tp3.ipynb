{
 "cells": [
  {
   "cell_type": "markdown",
   "metadata": {},
   "source": [
    "**Imports**"
   ]
  },
  {
   "cell_type": "code",
   "execution_count": 29,
   "metadata": {},
   "outputs": [],
   "source": [
    "# ---------------------------------------------- Imports ----------------------------------------\n",
    "import numpy as np\n",
    "import matplotlib.pyplot as plt\n",
    "import matplotlib.patches as patches\n",
    "from coppeliasim_zmqremoteapi_client import RemoteAPIClient"
   ]
  },
  {
   "cell_type": "markdown",
   "metadata": {},
   "source": [
    "**Constantes**"
   ]
  },
  {
   "cell_type": "code",
   "execution_count": 30,
   "metadata": {},
   "outputs": [],
   "source": [
    "L = 0.230\n",
    "R = 0.035\n",
    "ROBOT = \"kobuki\"\n",
    "LASER = \"fastHokuyo\""
   ]
  },
  {
   "cell_type": "markdown",
   "metadata": {},
   "source": [
    "**Init**"
   ]
  },
  {
   "cell_type": "code",
   "execution_count": 31,
   "metadata": {},
   "outputs": [],
   "source": [
    "# ---------------------------------------------- Init ----------------------------------------\n",
    "try:\n",
    "    client = RemoteAPIClient()\n",
    "    sim = client.require('sim')\n",
    "except:\n",
    "    print('Error connection')"
   ]
  },
  {
   "cell_type": "markdown",
   "metadata": {},
   "source": [
    "**Leitura do Sensor**"
   ]
  },
  {
   "cell_type": "code",
   "execution_count": 32,
   "metadata": {},
   "outputs": [],
   "source": [
    "def readSensorData(range_data_signal_id=\"hokuyo_range_data\", \n",
    "                    angle_data_signal_id=\"hokuyo_angle_data\"):\n",
    "    \n",
    "    signalName = sim.waitForSignal(range_data_signal_id)\n",
    "    \n",
    "    string_range_data = sim.getStringSignal(range_data_signal_id)\n",
    "\n",
    "    string_angle_data = sim.getStringSignal(angle_data_signal_id)\n",
    "\n",
    "    # verifique se ambos os dados foram obtidos corretamente\n",
    "    if string_range_data != None and string_angle_data != None:\n",
    "        # descompacte dados de mensagens de alcance e sensor\n",
    "        raw_range_data = sim.unpackFloatTable(string_range_data)\n",
    "        raw_angle_data = sim.unpackFloatTable(string_angle_data)\n",
    "\n",
    "        return raw_range_data, raw_angle_data\n",
    "\n",
    "    # retornar nenhum caso nada tenha sido obtido do simulador\n",
    "    return None"
   ]
  },
  {
   "cell_type": "markdown",
   "metadata": {},
   "source": [
    "**Cálculo Matriz de Rotação**"
   ]
  },
  {
   "cell_type": "code",
   "execution_count": 33,
   "metadata": {},
   "outputs": [],
   "source": [
    "def get_rotation_matrix(thetaZ):\n",
    "    return np.array([[  np.cos(thetaZ), -np.sin(thetaZ), 0 ],\n",
    "                      [ np.sin(thetaZ),  np.cos(thetaZ), 0 ],\n",
    "                      [ 0            ,  0            , 1 ]])\n",
    "\n",
    "def get_rotation_matrix_laser_world():\n",
    "    objectHandle_RP = sim.getObject(\"/\" + ROBOT)\n",
    "    origin_RP = np.array(sim.getObjectPosition(objectHandle_RP, \n",
    "                                        sim.handle_world))\n",
    "\n",
    "    objectHandle_Laser = sim.getObject(\"/\" + LASER)\n",
    "    origin_Laser = np.array(sim.getObjectPosition(objectHandle_Laser, \n",
    "                                        sim.handle_world))\n",
    "    p_Laserorg = origin_Laser - origin_RP\n",
    "    eulerAngles_Laser = sim.getObjectOrientation(objectHandle_Laser, \n",
    "                                                objectHandle_RP)\n",
    "\n",
    "    aux = np.array([0, 0, 0, 1])\n",
    "    rotationMatrix_Laser = get_rotation_matrix(eulerAngles_Laser[2])\n",
    "    transformationMatrix_Laser = np.column_stack((rotationMatrix_Laser, p_Laserorg))\n",
    "    transformationMatrix_Laser = np.row_stack((transformationMatrix_Laser, aux))\n",
    "\n",
    "    #Matriz de Transformação Robô -> mundo\n",
    "    origin_World = np.array([0,0,0])\n",
    "    p_RPorg = origin_RP - origin_World\n",
    "    eulerAngles_RP = sim.getObjectOrientation(objectHandle_RP, \n",
    "                                                sim.handle_world)\n",
    "    rotationMatrix_RP = get_rotation_matrix(eulerAngles_RP[2])\n",
    "    transformationMatrix_World = np.column_stack((rotationMatrix_RP, p_RPorg))\n",
    "    transformationMatrix_World = np.row_stack((transformationMatrix_World, aux))\n",
    "    \n",
    "    #Matriz de Transformação Laser -> Mundo\n",
    "    return transformationMatrix_Laser @ transformationMatrix_World"
   ]
  },
  {
   "cell_type": "markdown",
   "metadata": {},
   "source": [
    "**Campos Potenciais**"
   ]
  },
  {
   "cell_type": "code",
   "execution_count": 34,
   "metadata": {},
   "outputs": [],
   "source": [
    "#Calcula a força de atração \n",
    "def att_force(q, goal, k=5):\n",
    "    f = k*(goal - q)\n",
    "    return f\n",
    "\n",
    "#Calcula a força de repulsão\n",
    "def rep_force(q, obs, R=1.5, krep=.005):\n",
    "    Frep_total = np.array([0.0, 0.0])\n",
    "    for obstacle in obs:\n",
    "        v = q[0:2] - obstacle\n",
    "        d = np.linalg.norm(v) # Calcula a distância entre o robô e o obstáculo\n",
    "\n",
    "        # Calcula a força de repulsão apenas se a distância for menor que R\n",
    "        if (d < R):  \n",
    "            rep = (1/d**2)*((1/d)-(1/R))*(v/d) \n",
    "            Frep_total += rep\n",
    "\n",
    "    return krep*Frep_total"
   ]
  },
  {
   "cell_type": "markdown",
   "metadata": {},
   "source": [
    "**Navegação**"
   ]
  },
  {
   "cell_type": "code",
   "execution_count": 35,
   "metadata": {},
   "outputs": [],
   "source": [
    "sim.startSimulation()\n",
    "\n",
    "robotHandle = sim.getObject(\"/\" + ROBOT)  \n",
    "robotLeftMotorHandle = sim.getObject(\"/\" +'kobuki_leftMotor')\n",
    "robotRightMotorHandle = sim.getObject(\"/\" +'kobuki_rightMotor')\n",
    "\n",
    "qgoal = np.array([1.5, 3])\n",
    "maxv = 0.2 #LIMITADORES DA VELOCIDADE LINEAR\n",
    "maxw = np.deg2rad(45) #LIMITADORES DA VELOCIDADE ANGULAR\n",
    "\n",
    "robot_path = []\n",
    "obstacle = []\n",
    "obstacle_points = []\n",
    "rho = np.inf\n",
    "random_force = 0.1\n",
    "max_sensor_range = 5\n",
    "\n",
    "while rho > .05:\n",
    "    obstacle = []\n",
    "\n",
    "    #Configuração do robo\n",
    "    robotPos = sim.getObjectPosition(robotHandle, sim.handle_world)\n",
    "    robotPos = robotPos[0:2]\n",
    "    robot_path.append(robotPos)\n",
    "    robotOri = sim.getObjectOrientation(robotHandle, sim.handle_world)        \n",
    "    robotConfig = np.array([robotPos[0], robotPos[1], robotOri[2]])\n",
    "\n",
    "    raw_range_data, raw_angle_data = readSensorData()\n",
    "    laser_data = np.array([raw_angle_data, raw_range_data]).T\n",
    "\n",
    "    #Transformação dos dados do meu laser para o mundo\n",
    "    transformationMatrix_LaserWorld = get_rotation_matrix_laser_world()\n",
    "\n",
    "    for i in range(len(laser_data)):\n",
    "        ang, dist = laser_data[i] #pega os valores de angulo e distância\n",
    "\n",
    "        if (max_sensor_range - dist) > 0.1:\n",
    "            x = dist * np.cos(ang) #meu x\n",
    "            y = dist * np.sin(ang) #meu y\n",
    "            point = np.array([x,y,0,1])\n",
    "\n",
    "            if len(transformationMatrix_LaserWorld) != 0:\n",
    "                point = transformationMatrix_LaserWorld @ point\n",
    "                obstacle.append(point[0:2])\n",
    "                obstacle_points.append(point)    \n",
    "    \n",
    "    Fatt = att_force(robotPos, qgoal)\n",
    "    Frep = rep_force(robotPos, obstacle)\n",
    "\n",
    "    random_force_vector = random_force * np.random.rand(2)\n",
    "    Ft = Fatt + Frep + random_force_vector\n",
    "    Ft_x = Ft[0]\n",
    "    Ft_y = Ft[1]\n",
    "\n",
    "    # Apenas para interromper o loop\n",
    "    rho = np.sqrt(Ft_x**2 + Ft_y**2)\n",
    "    \n",
    "    # Formula De Luca e Oriolo para calcular a velocidade linear e angular.\n",
    "    kr = 0.05\n",
    "    kt = 0.1\n",
    "    v = kr*(Ft_x*np.cos(robotConfig[2]) + Ft_y*np.sin(robotConfig[2]))\n",
    "    w = kt*(np.arctan2(Ft_y,Ft_x) - robotConfig[2])\n",
    "            \n",
    "    # Limit v,w to +/- max\n",
    "    v = max(min(v, maxv), -maxv)\n",
    "    w = max(min(w, maxw), -maxw)        \n",
    "    \n",
    "    vr = ((1.0*v) + (w*L))/(2.0*R)\n",
    "    vl = ((1.0*v) - (w*L))/(2.0*R)\n",
    "    sim.setJointTargetVelocity(robotRightMotorHandle, vr)\n",
    "    sim.setJointTargetVelocity(robotLeftMotorHandle, vl)\n",
    "\n",
    "sim.setJointTargetVelocity(robotRightMotorHandle, 0)\n",
    "sim.setJointTargetVelocity(robotLeftMotorHandle, 0)\n",
    "\n",
    "sim.stopSimulation()"
   ]
  }
 ],
 "metadata": {
  "kernelspec": {
   "display_name": "Python 3",
   "language": "python",
   "name": "python3"
  },
  "language_info": {
   "codemirror_mode": {
    "name": "ipython",
    "version": 3
   },
   "file_extension": ".py",
   "mimetype": "text/x-python",
   "name": "python",
   "nbconvert_exporter": "python",
   "pygments_lexer": "ipython3",
   "version": "3.11.4"
  }
 },
 "nbformat": 4,
 "nbformat_minor": 2
}
