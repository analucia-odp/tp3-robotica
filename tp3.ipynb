{
 "cells": [
  {
   "cell_type": "markdown",
   "metadata": {},
   "source": [
    "**Imports**"
   ]
  },
  {
   "cell_type": "code",
   "execution_count": 1,
   "metadata": {},
   "outputs": [],
   "source": [
    "# ---------------------------------------------- Imports ----------------------------------------\n",
    "import numpy as np\n",
    "import matplotlib.pyplot as plt\n",
    "import matplotlib.patches as patches\n",
    "from coppeliasim_zmqremoteapi_client import RemoteAPIClient"
   ]
  },
  {
   "cell_type": "markdown",
   "metadata": {},
   "source": [
    "**Constantes**"
   ]
  },
  {
   "cell_type": "code",
   "execution_count": 2,
   "metadata": {},
   "outputs": [],
   "source": [
    "L = 0.230\n",
    "R = 0.035\n",
    "ROBOT = \"kobuki\"\n",
    "LASER = \"fastHokuyo\""
   ]
  },
  {
   "cell_type": "code",
   "execution_count": null,
   "metadata": {},
   "outputs": [],
   "source": [
    "#odds\n",
    "def prob_to_log_odds(prob):\n",
    "    odds = prob/(1 - prob)\n",
    "    return np.log(odds)\n",
    "\n",
    "def log_odds_to_prob(log_odds):\n",
    "    return (1 - (1 / (1 + np.exp(log_odds))))"
   ]
  },
  {
   "cell_type": "code",
   "execution_count": null,
   "metadata": {},
   "outputs": [],
   "source": [
    "def bresenham(x0, y0, x1, y1):\n",
    "    \"\"\"Algoritmo de Bresenham para gerar pontos entre (x0, y0) e (x1, y1).\"\"\"\n",
    "    points = []\n",
    "    dx = abs(x1 - x0)\n",
    "    dy = abs(y1 - y0)\n",
    "    sx = 1 if x0 < x1 else -1\n",
    "    sy = 1 if y0 < y1 else -1\n",
    "    err = dx - dy\n",
    "\n",
    "    while True:\n",
    "        points.append((x0, y0))\n",
    "        if x0 == x1 and y0 == y1:\n",
    "            break\n",
    "        e2 = err * 2\n",
    "        if e2 > -dy:\n",
    "            err -= dy\n",
    "            x0 += sx\n",
    "        if e2 < dx:\n",
    "            err += dx\n",
    "            y0 += sy\n",
    "\n",
    "    return points\n"
   ]
  },
  {
   "cell_type": "code",
   "execution_count": null,
   "metadata": {},
   "outputs": [],
   "source": [
    "# 3 possibilidade:\n",
    "# tem uma grande chance das celulas estarem livre entre o sensor e a posição que fiz a leitura estar livre, pq se nao eu nao iria conseguir fazer a leitura\n",
    "# as posições um pouco antes e um pouco depois tem uma chance de estarem ocupadas porque é onde eu fiz a leitura\n",
    "# e o que ta depois do sensor eu nao sei o que tem la, entao como eu nao sei eu considero a probabilidade anterior que tava naquela celula\n",
    "\n",
    "#Essa função vai avaliar uma celula por vez aqui.\n",
    "#m_i vai ser a celula que eu to avaliando no momento\n",
    "#x_t sao as coordenadas do robo\n",
    "#z_t pode ser uma leitura de um sensor LIDAR, sonar, ou qualquer outro sensor de distância, que mede a distância até o obstáculo mais próximo a partir da posição atual do robô.\n",
    "#é a probabilidade inicial ou a priori de ocupação da célula.\n",
    "def inverse_range_sensor_model(m_i, x_t, z_t, prob):\n",
    "    cell_size = 1  # Definido para manter consistência com o algoritmo original\n",
    "    x_i, y_i = m_i  # Centro de massa da célula m_i\n",
    "    x, y = x_t  # Posição do robô\n",
    "    z_max = 5 / cell_size  # Distância máxima\n",
    "    alpha = 0.2 / cell_size\n",
    "    \n",
    "    # Cálculo explícito da distância r, que representa a distancia entre o robo e o centro da celula mi\n",
    "    r = np.sqrt((x_i - x)**2 + (y_i - y)**2)\n",
    "    \n",
    "    l_occ = log_odds_to_prob(0.85)\n",
    "    l_free = log_odds_to_prob(0.1)\n",
    "    l_0 = log_odds_to_prob(prob)\n",
    "    \n",
    "    # Correspondência para z_t (distancemax) no algoritmo original\n",
    "    z_k_t = z_t\n",
    "    #Se for maior, retorna l_0, indicando que a célula está na área desconhecida.\n",
    "    if r > min(z_max, z_k_t + alpha / 2):\n",
    "        return l_0\n",
    "    #Se ambas as condições forem verdadeiras, retorna l_occ, indicando que a célula provavelmente está ocupada.\n",
    "    if z_k_t < z_max and abs(r - z_k_t) < alpha / 2:\n",
    "        return l_occ\n",
    "    #Se for verdadeira, retorna l_free, indicando que a célula está livre.\n",
    "    if r <= z_k_t:\n",
    "        return l_free     "
   ]
  },
  {
   "cell_type": "code",
   "execution_count": null,
   "metadata": {},
   "outputs": [],
   "source": [
    "# Função principal de mapeamento com navegação\n",
    "def occupancy_grid_mapping(cel_robo, cel_final, occ_grid, sensor_reading, initial_prob):\n",
    "    distancemax = np.linalg.norm(cel_robo - cel_final)\n",
    "    path = bresenham(cel_robo[0], cel_robo[1], cel_final[0], cel_final[1])\n",
    "    l_0 = log_odds_to_prob(initial_prob)\n",
    "    \n",
    "    for (x, y) in path:\n",
    "        celula_prob = occ_grid[x, y]\n",
    "        l_ant = log_odds_to_prob(celula_prob)\n",
    "        celula = [x, y]\n",
    "        r = np.sqrt((celula[0] - cel_robo[0])**2 + (celula[1] - cel_robo[1])**2)\n",
    "        \n",
    "        if r <= distancemax + 5:\n",
    "            l_cell = l_ant + inverse_range_sensor_model(celula, cel_robo, sensor_reading, celula_prob) - l_0\n",
    "        else:\n",
    "            l_cell = l_ant\n",
    "        \n",
    "        occ_grid[x, y] = prob_to_log_odds(l_cell)"
   ]
  },
  {
   "cell_type": "markdown",
   "metadata": {},
   "source": [
    "**Init**"
   ]
  },
  {
   "cell_type": "code",
   "execution_count": 3,
   "metadata": {},
   "outputs": [],
   "source": [
    "# ---------------------------------------------- Init ----------------------------------------\n",
    "try:\n",
    "    client = RemoteAPIClient()\n",
    "    sim = client.require('sim')\n",
    "except:\n",
    "    print('Error connection')"
   ]
  },
  {
   "cell_type": "markdown",
   "metadata": {},
   "source": [
    "**Leitura do Sensor**"
   ]
  },
  {
   "cell_type": "code",
   "execution_count": 4,
   "metadata": {},
   "outputs": [],
   "source": [
    "def readSensorData(range_data_signal_id=\"hokuyo_range_data\", \n",
    "                    angle_data_signal_id=\"hokuyo_angle_data\"):\n",
    "    \n",
    "    signalName = sim.waitForSignal(range_data_signal_id)\n",
    "    \n",
    "    string_range_data = sim.getStringSignal(range_data_signal_id)\n",
    "\n",
    "    string_angle_data = sim.getStringSignal(angle_data_signal_id)\n",
    "\n",
    "    # verifique se ambos os dados foram obtidos corretamente\n",
    "    if string_range_data != None and string_angle_data != None:\n",
    "        # descompacte dados de mensagens de alcance e sensor\n",
    "        raw_range_data = sim.unpackFloatTable(string_range_data)\n",
    "        raw_angle_data = sim.unpackFloatTable(string_angle_data)\n",
    "\n",
    "        return raw_range_data, raw_angle_data\n",
    "\n",
    "    # retornar nenhum caso nada tenha sido obtido do simulador\n",
    "    return None"
   ]
  },
  {
   "cell_type": "markdown",
   "metadata": {},
   "source": [
    "**Cálculo Matriz de Rotação**"
   ]
  },
  {
   "cell_type": "code",
   "execution_count": 5,
   "metadata": {},
   "outputs": [],
   "source": [
    "def get_rotation_matrix(thetaZ):\n",
    "    return np.array([[  np.cos(thetaZ), -np.sin(thetaZ), 0 ],\n",
    "                      [ np.sin(thetaZ),  np.cos(thetaZ), 0 ],\n",
    "                      [ 0            ,  0            , 1 ]])\n",
    "\n",
    "def get_rotation_matrix_laser_world():\n",
    "    objectHandle_RP = sim.getObject(\"/\" + ROBOT)\n",
    "    origin_RP = np.array(sim.getObjectPosition(objectHandle_RP, \n",
    "                                        sim.handle_world))\n",
    "\n",
    "    objectHandle_Laser = sim.getObject(\"/\" + LASER)\n",
    "    origin_Laser = np.array(sim.getObjectPosition(objectHandle_Laser, \n",
    "                                        sim.handle_world))\n",
    "    p_Laserorg = origin_Laser - origin_RP\n",
    "    eulerAngles_Laser = sim.getObjectOrientation(objectHandle_Laser, \n",
    "                                                objectHandle_RP)\n",
    "\n",
    "    aux = np.array([0, 0, 0, 1])\n",
    "    rotationMatrix_Laser = get_rotation_matrix(eulerAngles_Laser[2])\n",
    "    transformationMatrix_Laser = np.column_stack((rotationMatrix_Laser, p_Laserorg))\n",
    "    transformationMatrix_Laser = np.row_stack((transformationMatrix_Laser, aux))\n",
    "\n",
    "    #Matriz de Transformação Robô -> mundo\n",
    "    origin_World = np.array([0,0,0])\n",
    "    p_RPorg = origin_RP - origin_World\n",
    "    eulerAngles_RP = sim.getObjectOrientation(objectHandle_RP, \n",
    "                                                sim.handle_world)\n",
    "    rotationMatrix_RP = get_rotation_matrix(eulerAngles_RP[2])\n",
    "    transformationMatrix_World = np.column_stack((rotationMatrix_RP, p_RPorg))\n",
    "    transformationMatrix_World = np.row_stack((transformationMatrix_World, aux))\n",
    "    \n",
    "    #Matriz de Transformação Laser -> Mundo\n",
    "    return transformationMatrix_Laser @ transformationMatrix_World"
   ]
  },
  {
   "cell_type": "markdown",
   "metadata": {},
   "source": [
    "**Campos Potenciais**"
   ]
  },
  {
   "cell_type": "code",
   "execution_count": 6,
   "metadata": {},
   "outputs": [],
   "source": [
    "#Calcula a força de atração \n",
    "def att_force(q, goal, k=5):\n",
    "    f = k*(goal - q)\n",
    "    return f\n",
    "\n",
    "#Calcula a força de repulsão\n",
    "def rep_force(q, obs, R=1.5, krep=.005):\n",
    "    Frep_total = np.array([0.0, 0.0])\n",
    "    for obstacle in obs:\n",
    "        v = q[0:2] - obstacle\n",
    "        d = np.linalg.norm(v) # Calcula a distância entre o robô e o obstáculo\n",
    "\n",
    "        # Calcula a força de repulsão apenas se a distância for menor que R\n",
    "        if (d < R):  \n",
    "            rep = (1/d**2)*((1/d)-(1/R))*(v/d) \n",
    "            Frep_total += rep\n",
    "\n",
    "    return krep*Frep_total"
   ]
  },
  {
   "cell_type": "markdown",
   "metadata": {},
   "source": [
    "**Navegação**"
   ]
  },
  {
   "cell_type": "code",
   "execution_count": null,
   "metadata": {},
   "outputs": [],
   "source": [
    "sim.startSimulation()\n",
    "\n",
    "robotHandle = sim.getObject(\"/\" + ROBOT)  \n",
    "robotLeftMotorHandle = sim.getObject(\"/\" +'kobuki_leftMotor')\n",
    "robotRightMotorHandle = sim.getObject(\"/\" +'kobuki_rightMotor')\n",
    "\n",
    "qgoal = np.array([1.5, 3])\n",
    "maxv = 0.2 #LIMITADORES DA VELOCIDADE LINEAR\n",
    "maxw = np.deg2rad(45) #LIMITADORES DA VELOCIDADE ANGULAR\n",
    "\n",
    "robot_path = []\n",
    "obstacle = []\n",
    "obstacle_points = []\n",
    "rho = np.inf\n",
    "random_force = 0.1\n",
    "max_sensor_range = 5\n",
    "\n",
    "while rho > .05:\n",
    "    obstacle = []\n",
    "\n",
    "    #Configuração do robo\n",
    "    robotPos = sim.getObjectPosition(robotHandle, sim.handle_world)\n",
    "    robotPos = robotPos[0:2]\n",
    "    robot_path.append(robotPos)\n",
    "    robotOri = sim.getObjectOrientation(robotHandle, sim.handle_world)        \n",
    "    robotConfig = np.array([robotPos[0], robotPos[1], robotOri[2]])\n",
    "\n",
    "    raw_range_data, raw_angle_data = readSensorData()\n",
    "    laser_data = np.array([raw_angle_data, raw_range_data]).T\n",
    "\n",
    "    #Transformação dos dados do meu laser para o mundo\n",
    "    transformationMatrix_LaserWorld = get_rotation_matrix_laser_world()\n",
    "\n",
    "    for i in range(len(laser_data)):\n",
    "        ang, dist = laser_data[i] #pega os valores de angulo e distância\n",
    "\n",
    "        if (max_sensor_range - dist) > 0.1:\n",
    "            x = dist * np.cos(ang) #meu x\n",
    "            y = dist * np.sin(ang) #meu y\n",
    "            point = np.array([x,y,0,1])\n",
    "\n",
    "            if len(transformationMatrix_LaserWorld) != 0:\n",
    "                point = transformationMatrix_LaserWorld @ point\n",
    "                obstacle.append(point[0:2])\n",
    "                obstacle_points.append(point)    \n",
    "    \n",
    "    Fatt = att_force(robotPos, qgoal)\n",
    "    Frep = rep_force(robotPos, obstacle)\n",
    "\n",
    "    random_force_vector = random_force * np.random.rand(2)\n",
    "    Ft = Fatt + Frep + random_force_vector\n",
    "    Ft_x = Ft[0]\n",
    "    Ft_y = Ft[1]\n",
    "\n",
    "    # Apenas para interromper o loop\n",
    "    rho = np.sqrt(Ft_x**2 + Ft_y**2)\n",
    "    \n",
    "    # Formula De Luca e Oriolo para calcular a velocidade linear e angular.\n",
    "    kr = 0.05\n",
    "    kt = 0.1\n",
    "    v = kr*(Ft_x*np.cos(robotConfig[2]) + Ft_y*np.sin(robotConfig[2]))\n",
    "    w = kt*(np.arctan2(Ft_y,Ft_x) - robotConfig[2])\n",
    "            \n",
    "    # Limit v,w to +/- max\n",
    "    v = max(min(v, maxv), -maxv)\n",
    "    w = max(min(w, maxw), -maxw)        \n",
    "    \n",
    "    vr = ((1.0*v) + (w*L))/(2.0*R)\n",
    "    vl = ((1.0*v) - (w*L))/(2.0*R)\n",
    "    sim.setJointTargetVelocity(robotRightMotorHandle, vr)\n",
    "    sim.setJointTargetVelocity(robotLeftMotorHandle, vl)\n",
    "\n",
    "sim.setJointTargetVelocity(robotRightMotorHandle, 0)\n",
    "sim.setJointTargetVelocity(robotLeftMotorHandle, 0)\n",
    "\n",
    "sim.stopSimulation()"
   ]
  }
 ],
 "metadata": {
  "kernelspec": {
   "display_name": "Python 3",
   "language": "python",
   "name": "python3"
  },
  "language_info": {
   "codemirror_mode": {
    "name": "ipython",
    "version": 3
   },
   "file_extension": ".py",
   "mimetype": "text/x-python",
   "name": "python",
   "nbconvert_exporter": "python",
   "pygments_lexer": "ipython3",
   "version": "3.9.7"
  }
 },
 "nbformat": 4,
 "nbformat_minor": 2
}
